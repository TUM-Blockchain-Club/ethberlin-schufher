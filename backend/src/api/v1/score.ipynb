{
 "cells": [
  {
   "cell_type": "markdown",
   "metadata": {},
   "source": []
  },
  {
   "cell_type": "code",
   "execution_count": null,
   "metadata": {},
   "outputs": [],
   "source": [
    "from fastapi import FastAPI\n",
    "from fastapi.middleware.cors import CORSMiddleware\n",
    "\n",
    "from sklearn.datasets import make_classification\n",
    "from sklearn.model_selection import train_test_split\n",
    "from sklearn.preprocessing import StandardScaler\n",
    "from concrete.ml.sklearn import LinearRegression\n",
    "\n",
    "app = FastAPI()\n",
    "\n",
    "app.add_middleware(\n",
    "    CORSMiddleware,\n",
    "    allow_origins=['*'],\n",
    "    allow_credentials=True,\n",
    "    allow_methods=['*'],\n",
    "    allow_headers=['*'],\n",
    ")\n",
    "\n",
    "@app.get('/')\n",
    "async def root():\n",
    "    x, y = make_classification(n_samples=100, class_sep=2, n_features=30, random_state=42)\n",
    "    x_train, x_test, y_train, y_test = train_test_split(x, y, test_size=0.2, random_state=42)\n",
    "    model = LinearRegression()\n",
    "    model.fit(x_train, y_train)\n",
    "    y_pred_clear = model.predict(x_test)\n",
    "    model.compile(x_train)\n",
    "    y_pred_fhe = model.predict(x_test, fhe=\"execute\")\n",
    "    print(y_pred_clear)\n",
    "    print(y_pred_fhe)\n",
    "    normalized = StandardScaler().fit_transform(y_pred_fhe) * 100\n",
    "\n",
    "    return {'result': normalized.tolist()}\n",
    "\n",
    "@app.get('/get_score/{uid}')\n",
    "async def get_score(uid: str):\n",
    "    x, y = make_classification(n_samples=100, class_sep=2, n_features=30, random_state=42)\n",
    "    x_train, x_test, y_train, y_test = train_test_split(x, y, test_size=0.2, random_state=42)\n",
    "    model = LinearRegression()\n",
    "    model.fit(x_train, y_train)\n",
    "    y_pred_clear = model.predict(x_test)\n",
    "    model.compile(x_train)\n",
    "    y_pred_fhe = model.predict(x_test, fhe=\"execute\")\n",
    "    print(y_pred_clear)\n",
    "    print(y_pred_fhe)\n",
    "    normalized = StandardScaler().fit_transform(y_pred_fhe)\n",
    "\n",
    "    score = normalized.tolist()[int(uid) % len(normalized.tolist())][0] * 100\n",
    "    return {'score': int(score)}"
   ]
  },
  {
   "cell_type": "code",
   "execution_count": null,
   "metadata": {},
   "outputs": [],
   "source": [
    "import nest_asyncio\n",
    "from pyngrok import ngrok\n",
    "import uvicorn\n",
    "\n",
    "ngrok_tunnel = ngrok.connect(8000)\n",
    "print('Public URL:', ngrok_tunnel.public_url)\n",
    "nest_asyncio.apply()\n",
    "uvicorn.run(app, port=8000)"
   ]
  }
 ],
 "metadata": {
  "kernelspec": {
   "display_name": "Python 3",
   "language": "python",
   "name": "python3"
  },
  "language_info": {
   "codemirror_mode": {
    "name": "ipython",
    "version": 3
   },
   "file_extension": ".py",
   "mimetype": "text/x-python",
   "name": "python",
   "nbconvert_exporter": "python",
   "pygments_lexer": "ipython3",
   "version": "3.9.19"
  }
 },
 "nbformat": 4,
 "nbformat_minor": 2
}
